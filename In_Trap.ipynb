{
 "cells": [
  {
   "cell_type": "code",
   "execution_count": 11,
   "metadata": {},
   "outputs": [],
   "source": [
    "# Template function\n",
    "# Try modifying your own agent here\n",
    "def MyAgent(env):\n",
    "\n",
    "    def find_valid_moves(curr_env):\n",
    "        possible_moves = []\n",
    "        \n",
    "        # mtype = 1\n",
    "        for piece in curr_env.pieces:\n",
    "            if piece == None:\n",
    "                continue\n",
    "            if piece['position'] == (-1,-1):\n",
    "                for direction in curr_env.direction_list:\n",
    "                    id = piece['id']\n",
    "                    if curr_env.check_move(1, id, direction):\n",
    "                        possible_moves.append((1, id, direction))\n",
    "        \n",
    "        # mtype = 2\n",
    "        for piece in curr_env.pieces:\n",
    "            if piece == None:\n",
    "                continue\n",
    "            id = piece['id']\n",
    "            if piece['color'] == curr_env.player_turn:\n",
    "                for direction in curr_env.direction_list:\n",
    "                    if curr_env.check_move(2, id, direction):\n",
    "                        possible_moves.append((2, id, direction))\n",
    "        \n",
    "        return possible_moves\n",
    "    \n",
    "    # Edit Heuristic Valuation here\n",
    "    def calc_value_board(curr_env, player_turn):\n",
    "        value = 0\n",
    "        if curr_env.winner != 0:\n",
    "            value += 100\n",
    "        \n",
    "        for piece in curr_env.pieces:\n",
    "            if piece == None:\n",
    "                continue\n",
    "            if piece['color'] == player_turn:\n",
    "                value += 10\n",
    "                for direction in curr_env.direction_list:\n",
    "                    capture_list = curr_env.check_capture(2, piece['id'], direction)\n",
    "                    if (3 - player_turn) in capture_list:\n",
    "                        value += 50\n",
    "            else:\n",
    "                value -= 15\n",
    "                for direction in curr_env.direction_list:\n",
    "                    capture_list = curr_env.check_capture(2, piece['id'], direction)\n",
    "                    if player_turn in capture_list:\n",
    "                        value -= 50\n",
    "        return value\n",
    "        \n",
    "    \n",
    "    import copy\n",
    "    \n",
    "    possible_moves = find_valid_moves(env)\n",
    "    best_move = (-1,-1,-1)\n",
    "    best_value = -100\n",
    "    for mtype, id, direction in possible_moves:\n",
    "        curr_env = copy.deepcopy(env)\n",
    "        curr_env.move(mtype, id, direction)\n",
    "        value = calc_value_board(curr_env, env.player_turn)\n",
    "        if value > best_value:\n",
    "            best_value = value\n",
    "            best_move = (mtype, id, direction)\n",
    "\n",
    "    return best_move"
   ]
  },
  {
   "cell_type": "code",
   "execution_count": 16,
   "metadata": {},
   "outputs": [
    {
     "name": "stdout",
     "output_type": "stream",
     "text": [
      "Agent 1 wins 80% of the time.\n",
      "Agent 2 wins 20% of the time.\n",
      "Draw 0% of the time.\n"
     ]
    },
    {
     "data": {
      "text/plain": [
       "[8, 2]"
      ]
     },
     "execution_count": 16,
     "metadata": {},
     "output_type": "execute_result"
    }
   ],
   "source": [
    "# Simulate a game\n",
    "from InTrap_env import InTrap, simulate_game, evaluate\n",
    "from agents.negamax_agent import NegaMaxAgent \n",
    "env = InTrap()\n",
    "\n",
    "# To simulate 1 game using the code below \n",
    "# simulate_game(env, MyAgent, HeuristicAgent, verbose = False)\n",
    "\n",
    "# To check winning rate on N_GAMES using the code below\n",
    "evaluate(env, MyAgent, NegaMaxAgent, N_GAMES=10, verbose = False)"
   ]
  },
  {
   "cell_type": "code",
   "execution_count": null,
   "metadata": {},
   "outputs": [],
   "source": []
  }
 ],
 "metadata": {
  "kernelspec": {
   "display_name": "Python 3.9.13 64-bit (microsoft store)",
   "language": "python",
   "name": "python3"
  },
  "language_info": {
   "codemirror_mode": {
    "name": "ipython",
    "version": 3
   },
   "file_extension": ".py",
   "mimetype": "text/x-python",
   "name": "python",
   "nbconvert_exporter": "python",
   "pygments_lexer": "ipython3",
   "version": "3.9.13"
  },
  "orig_nbformat": 4,
  "vscode": {
   "interpreter": {
    "hash": "b52c88e6ee331d4ac1d9161e0d3dcc0ac2f3554e8d3918fe615486dc72972ae7"
   }
  }
 },
 "nbformat": 4,
 "nbformat_minor": 2
}
